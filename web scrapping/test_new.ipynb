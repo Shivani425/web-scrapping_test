{
 "cells": [
  {
   "cell_type": "code",
   "execution_count": 15,
   "metadata": {},
   "outputs": [
    {
     "name": "stderr",
     "output_type": "stream",
     "text": [
      "/var/folders/3g/h96hdpxx2t5gkdnjqtbs94pc0000gn/T/ipykernel_3728/532250392.py:22: DeprecationWarning: executable_path has been deprecated, please pass in a Service object\n",
      "  driver = webdriver.Chrome(ChromeDriverManager().install(), options=chrome_options)\n"
     ]
    }
   ],
   "source": [
    "from selenium import webdriver\n",
    "from selenium.webdriver.chrome.options import Options\n",
    "import os\n",
    "import requests\n",
    "import time\n",
    "from urllib.parse import urlparse\n",
    "from webdriver_manager.chrome import ChromeDriverManager\n",
    "import base64\n",
    "import random\n",
    "import string\n",
    "from selenium import webdriver\n",
    "from webdriver_manager.chrome import ChromeDriverManager\n",
    "from selenium.webdriver.common.by import By\n",
    "\n",
    "# Setting up Chrome options to run in headless mode\n",
    "chrome_options = Options()\n",
    "chrome_options.add_argument(\"--headless\")  # Runs Chrome in headless mode\n",
    "chrome_options.add_argument('--no-sandbox') # Bypass OS security model\n",
    "chrome_options.add_argument('--disable-dev-shm-usage') # Overcome limited resource problems\n",
    "\n",
    "# /usr/local/bin/chromedriver\n",
    "driver = webdriver.Chrome(ChromeDriverManager().install(), options=chrome_options)\n",
    "\n",
    "# from selenium import webdriver\n",
    "\n",
    "# cService = webdriver.ChromeService(executable_path='/chromedriver-mac-x64/chromedriver')\n",
    "# driver = webdriver.Chrome(service = cService)\n"
   ]
  },
  {
   "cell_type": "code",
   "execution_count": 16,
   "metadata": {},
   "outputs": [
    {
     "name": "stdout",
     "output_type": "stream",
     "text": [
      "Downloaded image: moejbqgd.jpeg\n",
      "Downloaded image: eyisqamz.jpeg\n",
      "Downloaded image: szshaded.jpeg\n",
      "Downloaded image: alwjyyjk.jpeg\n",
      "Downloaded image: xyjuyikd.jpeg\n"
     ]
    }
   ],
   "source": [
    "\n",
    "# Function to create directory if it doesn't exist\n",
    "def create_directory(directory):\n",
    "    if not os.path.exists(directory):\n",
    "        os.makedirs(directory)\n",
    "\n",
    "# Function to generate a random name\n",
    "\n",
    "\n",
    "def generate_random_name(length=8):\n",
    "    letters = string.ascii_lowercase\n",
    "    return ''.join(random.choice(letters) for _ in range(length))\n",
    "\n",
    "# Function to download image\n",
    "\n",
    "\n",
    "def download_image_from_base64(base64_string, directory):\n",
    "    try:\n",
    "        if not base64_string:\n",
    "            print(\"Empty base64 string\")\n",
    "            return\n",
    "\n",
    "        # Generating a filename using a random name\n",
    "        filename = generate_random_name()+\".jpeg\"\n",
    "        filepath = os.path.join(directory, filename)\n",
    "\n",
    "        # Decoding and writing the image data to a file\n",
    "        with open(filepath, 'wb') as f:\n",
    "            f.write(base64.b64decode(base64_string))\n",
    "\n",
    "        print(f\"Downloaded image: {filename}\")\n",
    "    except Exception as e:\n",
    "        print(f\"Failed to download image: {e}\")\n",
    "\n",
    "# Main function\n",
    "\n",
    "\n",
    "def main():\n",
    "    # Define search query and number of images to download\n",
    "    search_query = \"rabbits\"\n",
    "    num_images = 5\n",
    "\n",
    "    # Initialize WebDriver\n",
    "    # driver = webdriver.Chrome()\n",
    "\n",
    "    try:\n",
    "        driver.get(\n",
    "            f\"https://www.google.com/search?q={search_query}&source=lnms&tbm=isch\")\n",
    "\n",
    "        # Extract image URLs\n",
    "        image_urls = [img.get_attribute(\n",
    "            \"src\") for img in driver.find_elements(By.CSS_SELECTOR, \"img.rg_i\")]\n",
    "\n",
    "        # Create directory to save images\n",
    "        save_directory = \"downloaded_images\"\n",
    "        create_directory(save_directory)\n",
    "\n",
    "        for url in image_urls[:num_images]:\n",
    "            if url:\n",
    "                # Extract base64 string from the URL\n",
    "                base64_string = url.split(\",\")[1]\n",
    "                download_image_from_base64(base64_string, save_directory)\n",
    "    finally:\n",
    "        # Close browser\n",
    "        driver.quit()\n",
    "\n",
    "\n",
    "if __name__ == \"__main__\":\n",
    "    main()\n",
    "\n"
   ]
  }
 ],
 "metadata": {
  "kernelspec": {
   "display_name": "tsf",
   "language": "python",
   "name": "python3"
  },
  "language_info": {
   "codemirror_mode": {
    "name": "ipython",
    "version": 3
   },
   "file_extension": ".py",
   "mimetype": "text/x-python",
   "name": "python",
   "nbconvert_exporter": "python",
   "pygments_lexer": "ipython3",
   "version": "3.8.16"
  }
 },
 "nbformat": 4,
 "nbformat_minor": 2
}
